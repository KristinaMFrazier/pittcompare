{
 "cells": [
  {
   "cell_type": "markdown",
   "metadata": {},
   "source": [
    "# Pittsburgh Demographics Comparison Analysis\n",
    "This notebook completes a basic analysis of the demographics of Pittsburgh City, Pennsylvania. This notebook is divided into two major sections: the first section compares Pittsburgh City demographics within it's geographic context of Allegheny County, and Pennsylvania demographics as a whole, while the second compares Pittsburgh with other comparable American cities."
   ]
  },
  {
   "cell_type": "markdown",
   "metadata": {},
   "source": [
    "## Pennsylania Comparison\n",
    "Pittsburgh City is the county seat of Allegheny County in Pennsylvania. This area is considered the center of the economic region of Western Pennsylvania. Pittsburgh is the second most populous city in the city, behind Philadelphia."
   ]
  },
  {
   "cell_type": "code",
   "execution_count": null,
   "metadata": {},
   "outputs": [],
   "source": []
  },
  {
   "cell_type": "code",
   "execution_count": null,
   "metadata": {},
   "outputs": [],
   "source": []
  },
  {
   "cell_type": "code",
   "execution_count": null,
   "metadata": {},
   "outputs": [],
   "source": []
  },
  {
   "cell_type": "markdown",
   "metadata": {},
   "source": [
    "## Comparison with other U.S. Cities\n",
    "This section compares Pittsburgh demographics with that of other cities that are commonly considered to be similar to Pittsburgh in terms of population size and economy. Washington, D.C. is included in this list only because the author of this notebook is from D.C."
   ]
  },
  {
   "cell_type": "code",
   "execution_count": null,
   "metadata": {},
   "outputs": [],
   "source": []
  },
  {
   "cell_type": "code",
   "execution_count": null,
   "metadata": {},
   "outputs": [],
   "source": []
  },
  {
   "cell_type": "code",
   "execution_count": null,
   "metadata": {},
   "outputs": [],
   "source": []
  }
 ],
 "metadata": {
  "kernelspec": {
   "display_name": "Python 3",
   "language": "python",
   "name": "python3"
  },
  "language_info": {
   "codemirror_mode": {
    "name": "ipython",
    "version": 3
   },
   "file_extension": ".py",
   "mimetype": "text/x-python",
   "name": "python",
   "nbconvert_exporter": "python",
   "pygments_lexer": "ipython3",
   "version": "3.7.7"
  }
 },
 "nbformat": 4,
 "nbformat_minor": 4
}
